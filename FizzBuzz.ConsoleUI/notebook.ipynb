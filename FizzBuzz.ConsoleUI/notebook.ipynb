{
 "cells": [
  {
   "cell_type": "markdown",
   "metadata": {},
   "source": [
    "Define Shape type"
   ]
  },
  {
   "cell_type": "code",
   "execution_count": null,
   "metadata": {
    "dotnet_interactive": {
     "language": "fsharp"
    }
   },
   "outputs": [],
   "source": [
    "type Shape =\n",
    "    | Square of side: double\n",
    "    | Rectangle of width: double * length: double"
   ]
  },
  {
   "cell_type": "markdown",
   "metadata": {},
   "source": [
    "Define getArea function with shape parameter"
   ]
  },
  {
   "cell_type": "code",
   "execution_count": null,
   "metadata": {
    "dotnet_interactive": {
     "language": "fsharp"
    }
   },
   "outputs": [],
   "source": [
    "let getArea (shape: Shape) =\n",
    "    match shape with\n",
    "    | Square side -> side * side\n",
    "    | Rectangle (width, length) -> width * length"
   ]
  },
  {
   "cell_type": "markdown",
   "metadata": {},
   "source": [
    "Init square and rectangle"
   ]
  },
  {
   "cell_type": "code",
   "execution_count": null,
   "metadata": {
    "dotnet_interactive": {
     "language": "fsharp"
    }
   },
   "outputs": [],
   "source": [
    "let square = Shape.Square 2.0\n",
    "let rectangle = Shape.Rectangle (2.0, 3.0)"
   ]
  },
  {
   "cell_type": "markdown",
   "metadata": {},
   "source": [
    "Display area of square and rectangle"
   ]
  },
  {
   "cell_type": "code",
   "execution_count": null,
   "metadata": {
    "dotnet_interactive": {
     "language": "fsharp"
    }
   },
   "outputs": [],
   "source": [
    "display($\"The area of the square {square} is {getArea square}\")\n",
    "display($\"The are of the rectange {rectangle} is {getArea rectangle}\")"
   ]
  }
 ],
 "metadata": {
  "kernelspec": {
   "display_name": ".NET (C#)",
   "language": "C#",
   "name": ".net-csharp"
  },
  "language_info": {
   "file_extension": ".cs",
   "mimetype": "text/x-csharp",
   "name": "C#",
   "pygments_lexer": "csharp",
   "version": "9.0"
  },
  "orig_nbformat": 4
 },
 "nbformat": 4,
 "nbformat_minor": 2
}
